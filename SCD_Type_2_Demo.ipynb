# SCD Type 2 Demo in Python + SQLite

import sqlite3
import pandas as pd

# In-memory SQLite DB
conn = sqlite3.connect(":memory:")

# Helper function to display query results
def show(query, title=""):
    if title:
        print(f"\n--- {title} ---")
    df = pd.read_sql_query(query, conn)
    display(df)

# Step 1: Create Customer Dimension Table
conn.execute("""
CREATE TABLE CustomerDim (
    CustomerKey INTEGER PRIMARY KEY AUTOINCREMENT,
    CustomerID INT,
    Name TEXT,
    City TEXT,
    StartDate TEXT,
    EndDate TEXT,
    IsCurrent INT
)
""")

# Step 2: Insert Initial Record
conn.execute("""
INSERT INTO CustomerDim (CustomerID, Name, City, StartDate, EndDate, IsCurrent)
VALUES (1, 'Alice', 'Manila', '2022-01-01', NULL, 1)
""")
show("SELECT * FROM CustomerDim", "After initial insert")

# Step 3: Simulate Change (Alice moves to Cebu)
conn.execute("UPDATE CustomerDim SET EndDate='2023-06-30', IsCurrent=0 WHERE CustomerID=1 AND IsCurrent=1")
conn.execute("""
INSERT INTO CustomerDim (CustomerID, Name, City, StartDate, EndDate, IsCurrent)
VALUES (1, 'Alice', 'Cebu', '2023-07-01', NULL, 1)
""")
show("SELECT * FROM CustomerDim", "After Alice moves to Cebu")

# Step 4: Query Current Record
show("SELECT * FROM CustomerDim WHERE IsCurrent=1", "Current record")

# Step 5: Query Historical Record (as of March 2023)
show("""
SELECT * FROM CustomerDim
WHERE CustomerID=1
  AND '2023-03-15' BETWEEN StartDate AND COALESCE(EndDate, '9999-12-31')
""", "Record as of March 2023")
